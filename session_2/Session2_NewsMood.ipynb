{
  "nbformat": 4,
  "nbformat_minor": 0,
  "metadata": {
    "colab": {
      "provenance": [],
      "collapsed_sections": [
        "SGSuIDP3W2js"
      ],
      "toc_visible": true,
      "authorship_tag": "ABX9TyPjBxRjobyPQ06gd/8E39YY",
      "include_colab_link": true
    },
    "kernelspec": {
      "name": "python3",
      "display_name": "Python 3"
    },
    "language_info": {
      "name": "python"
    }
  },
  "cells": [
    {
      "cell_type": "markdown",
      "metadata": {
        "id": "view-in-github",
        "colab_type": "text"
      },
      "source": [
        "<a href=\"https://colab.research.google.com/github/caiocmello/Introduction-to-SA-Training-CAIS/blob/main/session_2/Session2_NewsMood.ipynb\" target=\"_parent\"><img src=\"https://colab.research.google.com/assets/colab-badge.svg\" alt=\"Open In Colab\"/></a>"
      ]
    },
    {
      "cell_type": "markdown",
      "source": [
        "# <center><img src='https://drive.google.com/uc?id=1FzW9bN0SDepyn5pD-BZIP_9VewVmJWya'></center>\n",
        "\n"
      ],
      "metadata": {
        "id": "xZrTbtEYuGBJ"
      }
    },
    {
      "cell_type": "markdown",
      "source": [
        "#Workshop: **Introduction to Sentiment Analysis: Potentials and limitations**"
      ],
      "metadata": {
        "id": "1SmYAWtOMCGp"
      }
    },
    {
      "cell_type": "markdown",
      "source": [
        "### Installation"
      ],
      "metadata": {
        "id": "SGSuIDP3W2js"
      }
    },
    {
      "cell_type": "code",
      "source": [
        "# Run this cell to install all the packages and requirements\n",
        "!pip install xformers accelerate sentencepiece transformers[sentencepiece]\n",
        "!pip install NRCLex\n",
        "import plotly.express as px\n",
        "\n",
        "import pandas as pd\n",
        "pd.set_option('display.expand_frame_repr', False)\n",
        "pd.set_option('display.max_colwidth', None)\n",
        "\n",
        "from nrclex import NRCLex\n",
        "from nltk.sentiment.vader import SentimentIntensityAnalyzer\n",
        "from nltk.sentiment.util import *\n",
        "import nltk\n",
        "nltk.download('punkt')\n",
        "nltk.download('vader_lexicon')\n",
        "SIA = SentimentIntensityAnalyzer()"
      ],
      "metadata": {
        "colab": {
          "base_uri": "https://localhost:8080/"
        },
        "id": "6gTgkC2NWXdP",
        "outputId": "81dee428-d208-4217-caa4-8f1c7f39fc9e"
      },
      "execution_count": 31,
      "outputs": [
        {
          "output_type": "stream",
          "name": "stdout",
          "text": [
            "Requirement already satisfied: xformers in /usr/local/lib/python3.10/dist-packages (0.0.20)\n",
            "Requirement already satisfied: accelerate in /usr/local/lib/python3.10/dist-packages (0.20.3)\n",
            "Requirement already satisfied: sentencepiece in /usr/local/lib/python3.10/dist-packages (0.1.99)\n",
            "Requirement already satisfied: transformers[sentencepiece] in /usr/local/lib/python3.10/dist-packages (4.30.2)\n",
            "Requirement already satisfied: numpy in /usr/local/lib/python3.10/dist-packages (from xformers) (1.22.4)\n",
            "Requirement already satisfied: pyre-extensions==0.0.29 in /usr/local/lib/python3.10/dist-packages (from xformers) (0.0.29)\n",
            "Requirement already satisfied: torch==2.0.1 in /usr/local/lib/python3.10/dist-packages (from xformers) (2.0.1+cu118)\n",
            "Requirement already satisfied: typing-inspect in /usr/local/lib/python3.10/dist-packages (from pyre-extensions==0.0.29->xformers) (0.9.0)\n",
            "Requirement already satisfied: typing-extensions in /usr/local/lib/python3.10/dist-packages (from pyre-extensions==0.0.29->xformers) (4.6.3)\n",
            "Requirement already satisfied: filelock in /usr/local/lib/python3.10/dist-packages (from torch==2.0.1->xformers) (3.12.2)\n",
            "Requirement already satisfied: sympy in /usr/local/lib/python3.10/dist-packages (from torch==2.0.1->xformers) (1.11.1)\n",
            "Requirement already satisfied: networkx in /usr/local/lib/python3.10/dist-packages (from torch==2.0.1->xformers) (3.1)\n",
            "Requirement already satisfied: jinja2 in /usr/local/lib/python3.10/dist-packages (from torch==2.0.1->xformers) (3.1.2)\n",
            "Requirement already satisfied: triton==2.0.0 in /usr/local/lib/python3.10/dist-packages (from torch==2.0.1->xformers) (2.0.0)\n",
            "Requirement already satisfied: cmake in /usr/local/lib/python3.10/dist-packages (from triton==2.0.0->torch==2.0.1->xformers) (3.25.2)\n",
            "Requirement already satisfied: lit in /usr/local/lib/python3.10/dist-packages (from triton==2.0.0->torch==2.0.1->xformers) (16.0.6)\n",
            "Requirement already satisfied: packaging>=20.0 in /usr/local/lib/python3.10/dist-packages (from accelerate) (23.1)\n",
            "Requirement already satisfied: psutil in /usr/local/lib/python3.10/dist-packages (from accelerate) (5.9.5)\n",
            "Requirement already satisfied: pyyaml in /usr/local/lib/python3.10/dist-packages (from accelerate) (6.0)\n",
            "Requirement already satisfied: huggingface-hub<1.0,>=0.14.1 in /usr/local/lib/python3.10/dist-packages (from transformers[sentencepiece]) (0.15.1)\n",
            "Requirement already satisfied: regex!=2019.12.17 in /usr/local/lib/python3.10/dist-packages (from transformers[sentencepiece]) (2022.10.31)\n",
            "Requirement already satisfied: requests in /usr/local/lib/python3.10/dist-packages (from transformers[sentencepiece]) (2.27.1)\n",
            "Requirement already satisfied: tokenizers!=0.11.3,<0.14,>=0.11.1 in /usr/local/lib/python3.10/dist-packages (from transformers[sentencepiece]) (0.13.3)\n",
            "Requirement already satisfied: safetensors>=0.3.1 in /usr/local/lib/python3.10/dist-packages (from transformers[sentencepiece]) (0.3.1)\n",
            "Requirement already satisfied: tqdm>=4.27 in /usr/local/lib/python3.10/dist-packages (from transformers[sentencepiece]) (4.65.0)\n",
            "Requirement already satisfied: protobuf<=3.20.3 in /usr/local/lib/python3.10/dist-packages (from transformers[sentencepiece]) (3.20.3)\n",
            "Requirement already satisfied: fsspec in /usr/local/lib/python3.10/dist-packages (from huggingface-hub<1.0,>=0.14.1->transformers[sentencepiece]) (2023.6.0)\n",
            "Requirement already satisfied: urllib3<1.27,>=1.21.1 in /usr/local/lib/python3.10/dist-packages (from requests->transformers[sentencepiece]) (1.26.16)\n",
            "Requirement already satisfied: certifi>=2017.4.17 in /usr/local/lib/python3.10/dist-packages (from requests->transformers[sentencepiece]) (2023.5.7)\n",
            "Requirement already satisfied: charset-normalizer~=2.0.0 in /usr/local/lib/python3.10/dist-packages (from requests->transformers[sentencepiece]) (2.0.12)\n",
            "Requirement already satisfied: idna<4,>=2.5 in /usr/local/lib/python3.10/dist-packages (from requests->transformers[sentencepiece]) (3.4)\n",
            "Requirement already satisfied: MarkupSafe>=2.0 in /usr/local/lib/python3.10/dist-packages (from jinja2->torch==2.0.1->xformers) (2.1.3)\n",
            "Requirement already satisfied: mpmath>=0.19 in /usr/local/lib/python3.10/dist-packages (from sympy->torch==2.0.1->xformers) (1.3.0)\n",
            "Requirement already satisfied: mypy-extensions>=0.3.0 in /usr/local/lib/python3.10/dist-packages (from typing-inspect->pyre-extensions==0.0.29->xformers) (1.0.0)\n",
            "Requirement already satisfied: NRCLex in /usr/local/lib/python3.10/dist-packages (3.0.0)\n",
            "Requirement already satisfied: textblob in /usr/local/lib/python3.10/dist-packages (from NRCLex) (0.17.1)\n",
            "Requirement already satisfied: nltk>=3.1 in /usr/local/lib/python3.10/dist-packages (from textblob->NRCLex) (3.8.1)\n",
            "Requirement already satisfied: click in /usr/local/lib/python3.10/dist-packages (from nltk>=3.1->textblob->NRCLex) (8.1.3)\n",
            "Requirement already satisfied: joblib in /usr/local/lib/python3.10/dist-packages (from nltk>=3.1->textblob->NRCLex) (1.2.0)\n",
            "Requirement already satisfied: regex>=2021.8.3 in /usr/local/lib/python3.10/dist-packages (from nltk>=3.1->textblob->NRCLex) (2022.10.31)\n",
            "Requirement already satisfied: tqdm in /usr/local/lib/python3.10/dist-packages (from nltk>=3.1->textblob->NRCLex) (4.65.0)\n"
          ]
        },
        {
          "output_type": "stream",
          "name": "stderr",
          "text": [
            "[nltk_data] Downloading package punkt to /root/nltk_data...\n",
            "[nltk_data]   Package punkt is already up-to-date!\n",
            "[nltk_data] Downloading package vader_lexicon to /root/nltk_data...\n",
            "[nltk_data]   Package vader_lexicon is already up-to-date!\n"
          ]
        }
      ]
    },
    {
      "cell_type": "markdown",
      "source": [
        "#**Session 2:** Is sentiment in the news becoming more negative over time?\n",
        "\n"
      ],
      "metadata": {
        "id": "erlUcaikskGD"
      }
    },
    {
      "cell_type": "markdown",
      "source": [
        "A recent [report](https://reutersinstitute.politics.ox.ac.uk/digital-news-report/2022/dnr-executive-summary) published by the Reuters Institute for the Study of Journalism analysing news consumption across different countries unveiled the increase in news avoidance. Among the reasons, one of the most common answers by interviewees was that ‘news negatively affect their mood’:\n",
        "\n",
        "> 'The proportion of news consumers who say they avoid news, often or sometimes, has increased sharply across countries. This type of selective avoidance has doubled in both Brazil (54%) and the UK (46%) over the last five years, with many respondents saying news has a negative effect on their mood'. (Digital News Report, 2022)\n",
        "\n",
        "<center><img src='https://drive.google.com/uc?id=1rbnFxrJ1rLsMy-cU0yQ78rX2tapW_8g_'></center>\n",
        "\n",
        "However, in other countries like Germany, Sweden, Switzerland, Finland and Netherlands the variation was not considerable.\n",
        "\n",
        "**Question: Is sentiment in the news becoming more negative over time?**\n",
        "\n",
        "\n"
      ],
      "metadata": {
        "id": "c11qfjtKsWrp"
      }
    },
    {
      "cell_type": "markdown",
      "source": [
        "### **Data: Temporal sentiment analysis of news headlines of BBC articles**"
      ],
      "metadata": {
        "id": "mRwjNbRMr1Kb"
      }
    },
    {
      "cell_type": "markdown",
      "source": [
        "**Data collection:**\n",
        "\n",
        "The data collection consisted of the following steps:\n",
        "\n",
        "1. Getting tweets from @BBCBreaking timeline for specific years (2012,2015,2017,2019 and 2022) using the Twitter API.\n",
        "- Packages used: `Twarc2`\n",
        "2. Filtering the tweets data to get only the url for news articles published by @BBCBreaking.\n",
        "- Packages used: `Pandas`\n",
        "3. From the list of urls, using Newspaper3k to scrape the news headlines from the articles' webpages. After getting the list of news headlines, we removed the duplicated results as @BBCBreaking tweeted some articles more than once.\n",
        "- Packages used: `Newspaper3k` (`Beautiful Soup` & `NLTK`), `Pandas`\n",
        "\n",
        "<br />The image below illustrates the data collection pipeline:\n",
        "\n",
        "<br /><center><img src='https://drive.google.com/uc?id=1kJQGR5cXTEAEJkesCzYbXdvt07bxw24M'></center>\n",
        "\n",
        "<br />**Dataset description:**\n",
        "\n",
        "Dataset is available for download [here](https://zenodo.org/record/6927800)\n",
        "\n",
        "The dataset is in `.csv` format and is organised as follows:\n",
        "\n",
        "    Columns:\n",
        "        ID (tweet ID)\n",
        "        created_at (tweet publication's date)\n",
        "        url (url of the news article attached to the tweet)\n",
        "        Titles (news headline)\n",
        "    Rows: Each row contains a single news article headline sorted by date of publication (created_at).\n",
        "    \n",
        "    Total number of entries: 7213.\n",
        "\n",
        "<br /> **Dataset preview:**\n",
        "<center><img src='https://drive.google.com/uc?id=1ufeRWTM820q8VRA2F2cYuJ38E1BRAZIk'></center>\n",
        "\n",
        "\n",
        "<br /> **Dataset distribution:**\n",
        "<center><img src='https://drive.google.com/uc?id=1z_AI4-IqAyZlM-Wrq72PgL-qJvFYlxxA'></center>\n",
        "\n",
        "\n"
      ],
      "metadata": {
        "id": "KqVFk-htrv5b"
      }
    },
    {
      "cell_type": "markdown",
      "source": [
        "### **Task: Data Analysis**"
      ],
      "metadata": {
        "id": "Z6JLjrZ8rfBe"
      }
    },
    {
      "cell_type": "code",
      "source": [
        "# Run this cell to import the dataset from Github file and visualise it as DataFrame\n",
        "\n",
        "url = 'https://github.com/caiocmello/Introduction-to-SA-Training-CAIS/blob/main/session_2/BBCBreaking_news.csv?raw=true'\n",
        "df = pd.read_csv(url,index_col=0)\n",
        "df.head(5)"
      ],
      "metadata": {
        "colab": {
          "base_uri": "https://localhost:8080/",
          "height": 238
        },
        "id": "TmM9XGMD3bNS",
        "outputId": "35076ae1-a3a2-4a26-9c7b-9db49b123617"
      },
      "execution_count": 7,
      "outputs": [
        {
          "output_type": "execute_result",
          "data": {
            "text/plain": [
              "                                       created_at                   url                                                   Titles\n",
              "id                                                                                                                              \n",
              "2850400000000000000000   2012-12-29T15:08:59.000Z  http://t.co/bbVD9NG8           Russian plane crashes into road outside Moscow\n",
              "28503500000000000000000  2012-12-29T14:51:25.000Z  http://t.co/LPR8Yw2s  Probe into plane crash in Moscow which killed four crew\n",
              "28498200000000000000000  2012-12-29T11:20:07.000Z  http://t.co/esVogaXg      Protests in India after Delhi gang-rape victim dies\n",
              "28484100000000000000000  2012-12-29T02:00:34.000Z  http://t.co/CurDQZa9     Delhi gang-rape victim dies in hospital in Singapore\n",
              "28481100000000000000000  2012-12-29T00:01:38.000Z  http://t.co/Hw0zJKee  New Year Honours: Wiggins, Storey and Ainslie head list"
            ],
            "text/html": [
              "\n",
              "  <div id=\"df-0b8b6068-631d-4129-9abe-d308716fbe14\">\n",
              "    <div class=\"colab-df-container\">\n",
              "      <div>\n",
              "<style scoped>\n",
              "    .dataframe tbody tr th:only-of-type {\n",
              "        vertical-align: middle;\n",
              "    }\n",
              "\n",
              "    .dataframe tbody tr th {\n",
              "        vertical-align: top;\n",
              "    }\n",
              "\n",
              "    .dataframe thead th {\n",
              "        text-align: right;\n",
              "    }\n",
              "</style>\n",
              "<table border=\"1\" class=\"dataframe\">\n",
              "  <thead>\n",
              "    <tr style=\"text-align: right;\">\n",
              "      <th></th>\n",
              "      <th>created_at</th>\n",
              "      <th>url</th>\n",
              "      <th>Titles</th>\n",
              "    </tr>\n",
              "    <tr>\n",
              "      <th>id</th>\n",
              "      <th></th>\n",
              "      <th></th>\n",
              "      <th></th>\n",
              "    </tr>\n",
              "  </thead>\n",
              "  <tbody>\n",
              "    <tr>\n",
              "      <th>2850400000000000000000</th>\n",
              "      <td>2012-12-29T15:08:59.000Z</td>\n",
              "      <td>http://t.co/bbVD9NG8</td>\n",
              "      <td>Russian plane crashes into road outside Moscow</td>\n",
              "    </tr>\n",
              "    <tr>\n",
              "      <th>28503500000000000000000</th>\n",
              "      <td>2012-12-29T14:51:25.000Z</td>\n",
              "      <td>http://t.co/LPR8Yw2s</td>\n",
              "      <td>Probe into plane crash in Moscow which killed four crew</td>\n",
              "    </tr>\n",
              "    <tr>\n",
              "      <th>28498200000000000000000</th>\n",
              "      <td>2012-12-29T11:20:07.000Z</td>\n",
              "      <td>http://t.co/esVogaXg</td>\n",
              "      <td>Protests in India after Delhi gang-rape victim dies</td>\n",
              "    </tr>\n",
              "    <tr>\n",
              "      <th>28484100000000000000000</th>\n",
              "      <td>2012-12-29T02:00:34.000Z</td>\n",
              "      <td>http://t.co/CurDQZa9</td>\n",
              "      <td>Delhi gang-rape victim dies in hospital in Singapore</td>\n",
              "    </tr>\n",
              "    <tr>\n",
              "      <th>28481100000000000000000</th>\n",
              "      <td>2012-12-29T00:01:38.000Z</td>\n",
              "      <td>http://t.co/Hw0zJKee</td>\n",
              "      <td>New Year Honours: Wiggins, Storey and Ainslie head list</td>\n",
              "    </tr>\n",
              "  </tbody>\n",
              "</table>\n",
              "</div>\n",
              "      <button class=\"colab-df-convert\" onclick=\"convertToInteractive('df-0b8b6068-631d-4129-9abe-d308716fbe14')\"\n",
              "              title=\"Convert this dataframe to an interactive table.\"\n",
              "              style=\"display:none;\">\n",
              "        \n",
              "  <svg xmlns=\"http://www.w3.org/2000/svg\" height=\"24px\"viewBox=\"0 0 24 24\"\n",
              "       width=\"24px\">\n",
              "    <path d=\"M0 0h24v24H0V0z\" fill=\"none\"/>\n",
              "    <path d=\"M18.56 5.44l.94 2.06.94-2.06 2.06-.94-2.06-.94-.94-2.06-.94 2.06-2.06.94zm-11 1L8.5 8.5l.94-2.06 2.06-.94-2.06-.94L8.5 2.5l-.94 2.06-2.06.94zm10 10l.94 2.06.94-2.06 2.06-.94-2.06-.94-.94-2.06-.94 2.06-2.06.94z\"/><path d=\"M17.41 7.96l-1.37-1.37c-.4-.4-.92-.59-1.43-.59-.52 0-1.04.2-1.43.59L10.3 9.45l-7.72 7.72c-.78.78-.78 2.05 0 2.83L4 21.41c.39.39.9.59 1.41.59.51 0 1.02-.2 1.41-.59l7.78-7.78 2.81-2.81c.8-.78.8-2.07 0-2.86zM5.41 20L4 18.59l7.72-7.72 1.47 1.35L5.41 20z\"/>\n",
              "  </svg>\n",
              "      </button>\n",
              "      \n",
              "  <style>\n",
              "    .colab-df-container {\n",
              "      display:flex;\n",
              "      flex-wrap:wrap;\n",
              "      gap: 12px;\n",
              "    }\n",
              "\n",
              "    .colab-df-convert {\n",
              "      background-color: #E8F0FE;\n",
              "      border: none;\n",
              "      border-radius: 50%;\n",
              "      cursor: pointer;\n",
              "      display: none;\n",
              "      fill: #1967D2;\n",
              "      height: 32px;\n",
              "      padding: 0 0 0 0;\n",
              "      width: 32px;\n",
              "    }\n",
              "\n",
              "    .colab-df-convert:hover {\n",
              "      background-color: #E2EBFA;\n",
              "      box-shadow: 0px 1px 2px rgba(60, 64, 67, 0.3), 0px 1px 3px 1px rgba(60, 64, 67, 0.15);\n",
              "      fill: #174EA6;\n",
              "    }\n",
              "\n",
              "    [theme=dark] .colab-df-convert {\n",
              "      background-color: #3B4455;\n",
              "      fill: #D2E3FC;\n",
              "    }\n",
              "\n",
              "    [theme=dark] .colab-df-convert:hover {\n",
              "      background-color: #434B5C;\n",
              "      box-shadow: 0px 1px 3px 1px rgba(0, 0, 0, 0.15);\n",
              "      filter: drop-shadow(0px 1px 2px rgba(0, 0, 0, 0.3));\n",
              "      fill: #FFFFFF;\n",
              "    }\n",
              "  </style>\n",
              "\n",
              "      <script>\n",
              "        const buttonEl =\n",
              "          document.querySelector('#df-0b8b6068-631d-4129-9abe-d308716fbe14 button.colab-df-convert');\n",
              "        buttonEl.style.display =\n",
              "          google.colab.kernel.accessAllowed ? 'block' : 'none';\n",
              "\n",
              "        async function convertToInteractive(key) {\n",
              "          const element = document.querySelector('#df-0b8b6068-631d-4129-9abe-d308716fbe14');\n",
              "          const dataTable =\n",
              "            await google.colab.kernel.invokeFunction('convertToInteractive',\n",
              "                                                     [key], {});\n",
              "          if (!dataTable) return;\n",
              "\n",
              "          const docLinkHtml = 'Like what you see? Visit the ' +\n",
              "            '<a target=\"_blank\" href=https://colab.research.google.com/notebooks/data_table.ipynb>data table notebook</a>'\n",
              "            + ' to learn more about interactive tables.';\n",
              "          element.innerHTML = '';\n",
              "          dataTable['output_type'] = 'display_data';\n",
              "          await google.colab.output.renderOutput(dataTable, element);\n",
              "          const docLink = document.createElement('div');\n",
              "          docLink.innerHTML = docLinkHtml;\n",
              "          element.appendChild(docLink);\n",
              "        }\n",
              "      </script>\n",
              "    </div>\n",
              "  </div>\n",
              "  "
            ]
          },
          "metadata": {},
          "execution_count": 7
        }
      ]
    },
    {
      "cell_type": "code",
      "source": [
        "# By running this, the sentiment should be calculated and a label (pos,neu,neg) assigned creating new columns to the DataFrame\n",
        "\n",
        "df['Titles'] = df['Titles'].astype(str) # This will convert column type into string\n",
        "df['Polarity']=df['Titles'].apply(lambda x:SIA.polarity_scores(x)['compound'])\n",
        "df['Neutral']=df['Titles'].apply(lambda x:SIA.polarity_scores(x)['neu'])\n",
        "df['Negative']=df['Titles'].apply(lambda x:SIA.polarity_scores(x)['neg'])\n",
        "df['Positive']=df['Titles'].apply(lambda x:SIA.polarity_scores(x)['pos'])\n",
        "df['Sentiment']=''\n",
        "df.loc[df['Polarity']>0, 'Sentiment']='Positive'\n",
        "df.loc[df['Polarity']==0, 'Sentiment']='Neutral'\n",
        "df.loc[df['Polarity']<0, 'Sentiment']='Negative'"
      ],
      "metadata": {
        "id": "EBwrjOap-eXz"
      },
      "execution_count": 8,
      "outputs": []
    },
    {
      "cell_type": "code",
      "source": [
        "# Run this to check if it worked (new columns should appear)\n",
        "\n",
        "df.head(5)"
      ],
      "metadata": {
        "colab": {
          "base_uri": "https://localhost:8080/",
          "height": 238
        },
        "id": "cushJYbC_I-E",
        "outputId": "df1b442b-a92c-4283-abd2-55ea29adb722"
      },
      "execution_count": 9,
      "outputs": [
        {
          "output_type": "execute_result",
          "data": {
            "text/plain": [
              "                                       created_at                   url                                                   Titles  Polarity  Neutral  Negative  Positive Sentiment\n",
              "id                                                                                                                                                                               \n",
              "2850400000000000000000   2012-12-29T15:08:59.000Z  http://t.co/bbVD9NG8           Russian plane crashes into road outside Moscow    0.0000    1.000     0.000     0.000   Neutral\n",
              "28503500000000000000000  2012-12-29T14:51:25.000Z  http://t.co/LPR8Yw2s  Probe into plane crash in Moscow which killed four crew   -0.8020    0.526     0.474     0.000  Negative\n",
              "28498200000000000000000  2012-12-29T11:20:07.000Z  http://t.co/esVogaXg      Protests in India after Delhi gang-rape victim dies   -0.4588    0.600     0.400     0.000  Negative\n",
              "28484100000000000000000  2012-12-29T02:00:34.000Z  http://t.co/CurDQZa9     Delhi gang-rape victim dies in hospital in Singapore   -0.2732    0.769     0.231     0.000  Negative\n",
              "28481100000000000000000  2012-12-29T00:01:38.000Z  http://t.co/Hw0zJKee  New Year Honours: Wiggins, Storey and Ainslie head list    0.4939    0.714     0.000     0.286  Positive"
            ],
            "text/html": [
              "\n",
              "  <div id=\"df-9fddf5f0-11e5-48a9-aad8-a4d335f12cbc\">\n",
              "    <div class=\"colab-df-container\">\n",
              "      <div>\n",
              "<style scoped>\n",
              "    .dataframe tbody tr th:only-of-type {\n",
              "        vertical-align: middle;\n",
              "    }\n",
              "\n",
              "    .dataframe tbody tr th {\n",
              "        vertical-align: top;\n",
              "    }\n",
              "\n",
              "    .dataframe thead th {\n",
              "        text-align: right;\n",
              "    }\n",
              "</style>\n",
              "<table border=\"1\" class=\"dataframe\">\n",
              "  <thead>\n",
              "    <tr style=\"text-align: right;\">\n",
              "      <th></th>\n",
              "      <th>created_at</th>\n",
              "      <th>url</th>\n",
              "      <th>Titles</th>\n",
              "      <th>Polarity</th>\n",
              "      <th>Neutral</th>\n",
              "      <th>Negative</th>\n",
              "      <th>Positive</th>\n",
              "      <th>Sentiment</th>\n",
              "    </tr>\n",
              "    <tr>\n",
              "      <th>id</th>\n",
              "      <th></th>\n",
              "      <th></th>\n",
              "      <th></th>\n",
              "      <th></th>\n",
              "      <th></th>\n",
              "      <th></th>\n",
              "      <th></th>\n",
              "      <th></th>\n",
              "    </tr>\n",
              "  </thead>\n",
              "  <tbody>\n",
              "    <tr>\n",
              "      <th>2850400000000000000000</th>\n",
              "      <td>2012-12-29T15:08:59.000Z</td>\n",
              "      <td>http://t.co/bbVD9NG8</td>\n",
              "      <td>Russian plane crashes into road outside Moscow</td>\n",
              "      <td>0.0000</td>\n",
              "      <td>1.000</td>\n",
              "      <td>0.000</td>\n",
              "      <td>0.000</td>\n",
              "      <td>Neutral</td>\n",
              "    </tr>\n",
              "    <tr>\n",
              "      <th>28503500000000000000000</th>\n",
              "      <td>2012-12-29T14:51:25.000Z</td>\n",
              "      <td>http://t.co/LPR8Yw2s</td>\n",
              "      <td>Probe into plane crash in Moscow which killed four crew</td>\n",
              "      <td>-0.8020</td>\n",
              "      <td>0.526</td>\n",
              "      <td>0.474</td>\n",
              "      <td>0.000</td>\n",
              "      <td>Negative</td>\n",
              "    </tr>\n",
              "    <tr>\n",
              "      <th>28498200000000000000000</th>\n",
              "      <td>2012-12-29T11:20:07.000Z</td>\n",
              "      <td>http://t.co/esVogaXg</td>\n",
              "      <td>Protests in India after Delhi gang-rape victim dies</td>\n",
              "      <td>-0.4588</td>\n",
              "      <td>0.600</td>\n",
              "      <td>0.400</td>\n",
              "      <td>0.000</td>\n",
              "      <td>Negative</td>\n",
              "    </tr>\n",
              "    <tr>\n",
              "      <th>28484100000000000000000</th>\n",
              "      <td>2012-12-29T02:00:34.000Z</td>\n",
              "      <td>http://t.co/CurDQZa9</td>\n",
              "      <td>Delhi gang-rape victim dies in hospital in Singapore</td>\n",
              "      <td>-0.2732</td>\n",
              "      <td>0.769</td>\n",
              "      <td>0.231</td>\n",
              "      <td>0.000</td>\n",
              "      <td>Negative</td>\n",
              "    </tr>\n",
              "    <tr>\n",
              "      <th>28481100000000000000000</th>\n",
              "      <td>2012-12-29T00:01:38.000Z</td>\n",
              "      <td>http://t.co/Hw0zJKee</td>\n",
              "      <td>New Year Honours: Wiggins, Storey and Ainslie head list</td>\n",
              "      <td>0.4939</td>\n",
              "      <td>0.714</td>\n",
              "      <td>0.000</td>\n",
              "      <td>0.286</td>\n",
              "      <td>Positive</td>\n",
              "    </tr>\n",
              "  </tbody>\n",
              "</table>\n",
              "</div>\n",
              "      <button class=\"colab-df-convert\" onclick=\"convertToInteractive('df-9fddf5f0-11e5-48a9-aad8-a4d335f12cbc')\"\n",
              "              title=\"Convert this dataframe to an interactive table.\"\n",
              "              style=\"display:none;\">\n",
              "        \n",
              "  <svg xmlns=\"http://www.w3.org/2000/svg\" height=\"24px\"viewBox=\"0 0 24 24\"\n",
              "       width=\"24px\">\n",
              "    <path d=\"M0 0h24v24H0V0z\" fill=\"none\"/>\n",
              "    <path d=\"M18.56 5.44l.94 2.06.94-2.06 2.06-.94-2.06-.94-.94-2.06-.94 2.06-2.06.94zm-11 1L8.5 8.5l.94-2.06 2.06-.94-2.06-.94L8.5 2.5l-.94 2.06-2.06.94zm10 10l.94 2.06.94-2.06 2.06-.94-2.06-.94-.94-2.06-.94 2.06-2.06.94z\"/><path d=\"M17.41 7.96l-1.37-1.37c-.4-.4-.92-.59-1.43-.59-.52 0-1.04.2-1.43.59L10.3 9.45l-7.72 7.72c-.78.78-.78 2.05 0 2.83L4 21.41c.39.39.9.59 1.41.59.51 0 1.02-.2 1.41-.59l7.78-7.78 2.81-2.81c.8-.78.8-2.07 0-2.86zM5.41 20L4 18.59l7.72-7.72 1.47 1.35L5.41 20z\"/>\n",
              "  </svg>\n",
              "      </button>\n",
              "      \n",
              "  <style>\n",
              "    .colab-df-container {\n",
              "      display:flex;\n",
              "      flex-wrap:wrap;\n",
              "      gap: 12px;\n",
              "    }\n",
              "\n",
              "    .colab-df-convert {\n",
              "      background-color: #E8F0FE;\n",
              "      border: none;\n",
              "      border-radius: 50%;\n",
              "      cursor: pointer;\n",
              "      display: none;\n",
              "      fill: #1967D2;\n",
              "      height: 32px;\n",
              "      padding: 0 0 0 0;\n",
              "      width: 32px;\n",
              "    }\n",
              "\n",
              "    .colab-df-convert:hover {\n",
              "      background-color: #E2EBFA;\n",
              "      box-shadow: 0px 1px 2px rgba(60, 64, 67, 0.3), 0px 1px 3px 1px rgba(60, 64, 67, 0.15);\n",
              "      fill: #174EA6;\n",
              "    }\n",
              "\n",
              "    [theme=dark] .colab-df-convert {\n",
              "      background-color: #3B4455;\n",
              "      fill: #D2E3FC;\n",
              "    }\n",
              "\n",
              "    [theme=dark] .colab-df-convert:hover {\n",
              "      background-color: #434B5C;\n",
              "      box-shadow: 0px 1px 3px 1px rgba(0, 0, 0, 0.15);\n",
              "      filter: drop-shadow(0px 1px 2px rgba(0, 0, 0, 0.3));\n",
              "      fill: #FFFFFF;\n",
              "    }\n",
              "  </style>\n",
              "\n",
              "      <script>\n",
              "        const buttonEl =\n",
              "          document.querySelector('#df-9fddf5f0-11e5-48a9-aad8-a4d335f12cbc button.colab-df-convert');\n",
              "        buttonEl.style.display =\n",
              "          google.colab.kernel.accessAllowed ? 'block' : 'none';\n",
              "\n",
              "        async function convertToInteractive(key) {\n",
              "          const element = document.querySelector('#df-9fddf5f0-11e5-48a9-aad8-a4d335f12cbc');\n",
              "          const dataTable =\n",
              "            await google.colab.kernel.invokeFunction('convertToInteractive',\n",
              "                                                     [key], {});\n",
              "          if (!dataTable) return;\n",
              "\n",
              "          const docLinkHtml = 'Like what you see? Visit the ' +\n",
              "            '<a target=\"_blank\" href=https://colab.research.google.com/notebooks/data_table.ipynb>data table notebook</a>'\n",
              "            + ' to learn more about interactive tables.';\n",
              "          element.innerHTML = '';\n",
              "          dataTable['output_type'] = 'display_data';\n",
              "          await google.colab.output.renderOutput(dataTable, element);\n",
              "          const docLink = document.createElement('div');\n",
              "          docLink.innerHTML = docLinkHtml;\n",
              "          element.appendChild(docLink);\n",
              "        }\n",
              "      </script>\n",
              "    </div>\n",
              "  </div>\n",
              "  "
            ]
          },
          "metadata": {},
          "execution_count": 9
        }
      ]
    },
    {
      "cell_type": "code",
      "source": [
        "# You can also filter the data using the following (This way you can see only positive headlines)\n",
        "\n",
        "df.loc[df['Sentiment'] == 'Positive'][:5]"
      ],
      "metadata": {
        "colab": {
          "base_uri": "https://localhost:8080/",
          "height": 238
        },
        "id": "KnoyZeVhACn_",
        "outputId": "94eb8f8d-f7ce-4327-965f-54068cf8cbe7"
      },
      "execution_count": 10,
      "outputs": [
        {
          "output_type": "execute_result",
          "data": {
            "text/plain": [
              "                                       created_at                   url                                                   Titles  Polarity  Neutral  Negative  Positive Sentiment\n",
              "id                                                                                                                                                                               \n",
              "28481100000000000000000  2012-12-29T00:01:38.000Z  http://t.co/Hw0zJKee  New Year Honours: Wiggins, Storey and Ainslie head list    0.4939    0.714     0.000     0.286  Positive\n",
              "28287600000000000000000  2012-12-23T15:51:10.000Z  http://t.co/d9CaFPAU   Plebgate': Met Police vows 'ruthless' search for truth    0.3182    0.753     0.000     0.247  Positive\n",
              "28246300000000000000000  2012-12-22T12:28:55.000Z  http://t.co/ZY8MMsGl       Pope Benedict pardons former butler Paolo Gabriele    0.2960    0.732     0.000     0.268  Positive\n",
              "28242400000000000000000  2012-12-22T09:53:08.000Z  http://t.co/xVaOsYZj  First Great Western warns rail passengers not to travel    0.5719    0.560     0.112     0.328  Positive\n",
              "28208400000000000000000  2012-12-21T11:22:09.000Z  http://t.co/7RCZQM2i      Plebgate': Mitchell 'lacks confidence' in Met chief    0.5106    0.645     0.000     0.355  Positive"
            ],
            "text/html": [
              "\n",
              "  <div id=\"df-166407cf-26c8-4b67-88eb-f0e63849d5cf\">\n",
              "    <div class=\"colab-df-container\">\n",
              "      <div>\n",
              "<style scoped>\n",
              "    .dataframe tbody tr th:only-of-type {\n",
              "        vertical-align: middle;\n",
              "    }\n",
              "\n",
              "    .dataframe tbody tr th {\n",
              "        vertical-align: top;\n",
              "    }\n",
              "\n",
              "    .dataframe thead th {\n",
              "        text-align: right;\n",
              "    }\n",
              "</style>\n",
              "<table border=\"1\" class=\"dataframe\">\n",
              "  <thead>\n",
              "    <tr style=\"text-align: right;\">\n",
              "      <th></th>\n",
              "      <th>created_at</th>\n",
              "      <th>url</th>\n",
              "      <th>Titles</th>\n",
              "      <th>Polarity</th>\n",
              "      <th>Neutral</th>\n",
              "      <th>Negative</th>\n",
              "      <th>Positive</th>\n",
              "      <th>Sentiment</th>\n",
              "    </tr>\n",
              "    <tr>\n",
              "      <th>id</th>\n",
              "      <th></th>\n",
              "      <th></th>\n",
              "      <th></th>\n",
              "      <th></th>\n",
              "      <th></th>\n",
              "      <th></th>\n",
              "      <th></th>\n",
              "      <th></th>\n",
              "    </tr>\n",
              "  </thead>\n",
              "  <tbody>\n",
              "    <tr>\n",
              "      <th>28481100000000000000000</th>\n",
              "      <td>2012-12-29T00:01:38.000Z</td>\n",
              "      <td>http://t.co/Hw0zJKee</td>\n",
              "      <td>New Year Honours: Wiggins, Storey and Ainslie head list</td>\n",
              "      <td>0.4939</td>\n",
              "      <td>0.714</td>\n",
              "      <td>0.000</td>\n",
              "      <td>0.286</td>\n",
              "      <td>Positive</td>\n",
              "    </tr>\n",
              "    <tr>\n",
              "      <th>28287600000000000000000</th>\n",
              "      <td>2012-12-23T15:51:10.000Z</td>\n",
              "      <td>http://t.co/d9CaFPAU</td>\n",
              "      <td>Plebgate': Met Police vows 'ruthless' search for truth</td>\n",
              "      <td>0.3182</td>\n",
              "      <td>0.753</td>\n",
              "      <td>0.000</td>\n",
              "      <td>0.247</td>\n",
              "      <td>Positive</td>\n",
              "    </tr>\n",
              "    <tr>\n",
              "      <th>28246300000000000000000</th>\n",
              "      <td>2012-12-22T12:28:55.000Z</td>\n",
              "      <td>http://t.co/ZY8MMsGl</td>\n",
              "      <td>Pope Benedict pardons former butler Paolo Gabriele</td>\n",
              "      <td>0.2960</td>\n",
              "      <td>0.732</td>\n",
              "      <td>0.000</td>\n",
              "      <td>0.268</td>\n",
              "      <td>Positive</td>\n",
              "    </tr>\n",
              "    <tr>\n",
              "      <th>28242400000000000000000</th>\n",
              "      <td>2012-12-22T09:53:08.000Z</td>\n",
              "      <td>http://t.co/xVaOsYZj</td>\n",
              "      <td>First Great Western warns rail passengers not to travel</td>\n",
              "      <td>0.5719</td>\n",
              "      <td>0.560</td>\n",
              "      <td>0.112</td>\n",
              "      <td>0.328</td>\n",
              "      <td>Positive</td>\n",
              "    </tr>\n",
              "    <tr>\n",
              "      <th>28208400000000000000000</th>\n",
              "      <td>2012-12-21T11:22:09.000Z</td>\n",
              "      <td>http://t.co/7RCZQM2i</td>\n",
              "      <td>Plebgate': Mitchell 'lacks confidence' in Met chief</td>\n",
              "      <td>0.5106</td>\n",
              "      <td>0.645</td>\n",
              "      <td>0.000</td>\n",
              "      <td>0.355</td>\n",
              "      <td>Positive</td>\n",
              "    </tr>\n",
              "  </tbody>\n",
              "</table>\n",
              "</div>\n",
              "      <button class=\"colab-df-convert\" onclick=\"convertToInteractive('df-166407cf-26c8-4b67-88eb-f0e63849d5cf')\"\n",
              "              title=\"Convert this dataframe to an interactive table.\"\n",
              "              style=\"display:none;\">\n",
              "        \n",
              "  <svg xmlns=\"http://www.w3.org/2000/svg\" height=\"24px\"viewBox=\"0 0 24 24\"\n",
              "       width=\"24px\">\n",
              "    <path d=\"M0 0h24v24H0V0z\" fill=\"none\"/>\n",
              "    <path d=\"M18.56 5.44l.94 2.06.94-2.06 2.06-.94-2.06-.94-.94-2.06-.94 2.06-2.06.94zm-11 1L8.5 8.5l.94-2.06 2.06-.94-2.06-.94L8.5 2.5l-.94 2.06-2.06.94zm10 10l.94 2.06.94-2.06 2.06-.94-2.06-.94-.94-2.06-.94 2.06-2.06.94z\"/><path d=\"M17.41 7.96l-1.37-1.37c-.4-.4-.92-.59-1.43-.59-.52 0-1.04.2-1.43.59L10.3 9.45l-7.72 7.72c-.78.78-.78 2.05 0 2.83L4 21.41c.39.39.9.59 1.41.59.51 0 1.02-.2 1.41-.59l7.78-7.78 2.81-2.81c.8-.78.8-2.07 0-2.86zM5.41 20L4 18.59l7.72-7.72 1.47 1.35L5.41 20z\"/>\n",
              "  </svg>\n",
              "      </button>\n",
              "      \n",
              "  <style>\n",
              "    .colab-df-container {\n",
              "      display:flex;\n",
              "      flex-wrap:wrap;\n",
              "      gap: 12px;\n",
              "    }\n",
              "\n",
              "    .colab-df-convert {\n",
              "      background-color: #E8F0FE;\n",
              "      border: none;\n",
              "      border-radius: 50%;\n",
              "      cursor: pointer;\n",
              "      display: none;\n",
              "      fill: #1967D2;\n",
              "      height: 32px;\n",
              "      padding: 0 0 0 0;\n",
              "      width: 32px;\n",
              "    }\n",
              "\n",
              "    .colab-df-convert:hover {\n",
              "      background-color: #E2EBFA;\n",
              "      box-shadow: 0px 1px 2px rgba(60, 64, 67, 0.3), 0px 1px 3px 1px rgba(60, 64, 67, 0.15);\n",
              "      fill: #174EA6;\n",
              "    }\n",
              "\n",
              "    [theme=dark] .colab-df-convert {\n",
              "      background-color: #3B4455;\n",
              "      fill: #D2E3FC;\n",
              "    }\n",
              "\n",
              "    [theme=dark] .colab-df-convert:hover {\n",
              "      background-color: #434B5C;\n",
              "      box-shadow: 0px 1px 3px 1px rgba(0, 0, 0, 0.15);\n",
              "      filter: drop-shadow(0px 1px 2px rgba(0, 0, 0, 0.3));\n",
              "      fill: #FFFFFF;\n",
              "    }\n",
              "  </style>\n",
              "\n",
              "      <script>\n",
              "        const buttonEl =\n",
              "          document.querySelector('#df-166407cf-26c8-4b67-88eb-f0e63849d5cf button.colab-df-convert');\n",
              "        buttonEl.style.display =\n",
              "          google.colab.kernel.accessAllowed ? 'block' : 'none';\n",
              "\n",
              "        async function convertToInteractive(key) {\n",
              "          const element = document.querySelector('#df-166407cf-26c8-4b67-88eb-f0e63849d5cf');\n",
              "          const dataTable =\n",
              "            await google.colab.kernel.invokeFunction('convertToInteractive',\n",
              "                                                     [key], {});\n",
              "          if (!dataTable) return;\n",
              "\n",
              "          const docLinkHtml = 'Like what you see? Visit the ' +\n",
              "            '<a target=\"_blank\" href=https://colab.research.google.com/notebooks/data_table.ipynb>data table notebook</a>'\n",
              "            + ' to learn more about interactive tables.';\n",
              "          element.innerHTML = '';\n",
              "          dataTable['output_type'] = 'display_data';\n",
              "          await google.colab.output.renderOutput(dataTable, element);\n",
              "          const docLink = document.createElement('div');\n",
              "          docLink.innerHTML = docLinkHtml;\n",
              "          element.appendChild(docLink);\n",
              "        }\n",
              "      </script>\n",
              "    </div>\n",
              "  </div>\n",
              "  "
            ]
          },
          "metadata": {},
          "execution_count": 10
        }
      ]
    },
    {
      "cell_type": "code",
      "source": [
        "# Run this cell to count sentiment score by year and normalise the data\n",
        "\n",
        "df.loc[df['Polarity']>0, 'Sentiment_Score']='2'\n",
        "df.loc[df['Polarity']==0, 'Sentiment_Score']='1'\n",
        "df.loc[df['Polarity']<0, 'Sentiment_Score']='-1'\n",
        "\n",
        "# df[]pd.to_datetime(df.created_at).dt.to_period('m')\n",
        "df[\"month\"] = pd.to_datetime(df.created_at).dt.strftime('%m')\n",
        "df[\"year\"] = pd.to_datetime(df.created_at).dt.strftime('%Y')#%m/%Y\n",
        "df.to_csv('temp.csv',sep=\",\",index=None)\n",
        "\n",
        "df_collection = []\n",
        "for name, group in df.groupby(\"year\"):\n",
        "  df_temp = pd.DataFrame({})\n",
        "  # print(group['Sentiment'].value_counts())\n",
        "  df_da = group['Sentiment'].value_counts().reset_index()\n",
        "  df_da.columns = ['Prefix', 'counts']\n",
        "  df_da[name] =  df_da['counts']*100 / df_da['counts'].sum()\n",
        "  df_collection.append(df_da)\n",
        "  #print(df_da)"
      ],
      "metadata": {
        "id": "ACB5W_BXC09K"
      },
      "execution_count": 11,
      "outputs": []
    },
    {
      "cell_type": "code",
      "source": [
        "# By running this cell, you can visualise the percentage of postive, neutral and negative sentiment outputs for each year\n",
        "\n",
        "df_plotly = pd.concat(df_collection,axis=1).drop(['counts'], axis=1)\n",
        "df_plotly = df_plotly.drop(['Prefix'], axis=1)\n",
        "sentiment_labels = ['Negative', 'Neutral', 'Positive']\n",
        "df_plotly['Label'] = sentiment_labels\n",
        "df_plotly"
      ],
      "metadata": {
        "colab": {
          "base_uri": "https://localhost:8080/",
          "height": 144
        },
        "id": "WVO2A06lGHuV",
        "outputId": "6bd2d636-4f7c-418f-8870-3f6811985d46"
      },
      "execution_count": 12,
      "outputs": [
        {
          "output_type": "execute_result",
          "data": {
            "text/plain": [
              "        2012       2015       2017       2019       2022     Label\n",
              "0  49.674419  56.338652  55.396096  54.907539  50.276243  Negative\n",
              "1  35.674419  31.826241  30.711825  31.009957  25.966851   Neutral\n",
              "2  14.651163  11.835106  13.892078  14.082504  23.756906  Positive"
            ],
            "text/html": [
              "\n",
              "  <div id=\"df-3102067f-0b4d-4521-8145-d4611993f160\">\n",
              "    <div class=\"colab-df-container\">\n",
              "      <div>\n",
              "<style scoped>\n",
              "    .dataframe tbody tr th:only-of-type {\n",
              "        vertical-align: middle;\n",
              "    }\n",
              "\n",
              "    .dataframe tbody tr th {\n",
              "        vertical-align: top;\n",
              "    }\n",
              "\n",
              "    .dataframe thead th {\n",
              "        text-align: right;\n",
              "    }\n",
              "</style>\n",
              "<table border=\"1\" class=\"dataframe\">\n",
              "  <thead>\n",
              "    <tr style=\"text-align: right;\">\n",
              "      <th></th>\n",
              "      <th>2012</th>\n",
              "      <th>2015</th>\n",
              "      <th>2017</th>\n",
              "      <th>2019</th>\n",
              "      <th>2022</th>\n",
              "      <th>Label</th>\n",
              "    </tr>\n",
              "  </thead>\n",
              "  <tbody>\n",
              "    <tr>\n",
              "      <th>0</th>\n",
              "      <td>49.674419</td>\n",
              "      <td>56.338652</td>\n",
              "      <td>55.396096</td>\n",
              "      <td>54.907539</td>\n",
              "      <td>50.276243</td>\n",
              "      <td>Negative</td>\n",
              "    </tr>\n",
              "    <tr>\n",
              "      <th>1</th>\n",
              "      <td>35.674419</td>\n",
              "      <td>31.826241</td>\n",
              "      <td>30.711825</td>\n",
              "      <td>31.009957</td>\n",
              "      <td>25.966851</td>\n",
              "      <td>Neutral</td>\n",
              "    </tr>\n",
              "    <tr>\n",
              "      <th>2</th>\n",
              "      <td>14.651163</td>\n",
              "      <td>11.835106</td>\n",
              "      <td>13.892078</td>\n",
              "      <td>14.082504</td>\n",
              "      <td>23.756906</td>\n",
              "      <td>Positive</td>\n",
              "    </tr>\n",
              "  </tbody>\n",
              "</table>\n",
              "</div>\n",
              "      <button class=\"colab-df-convert\" onclick=\"convertToInteractive('df-3102067f-0b4d-4521-8145-d4611993f160')\"\n",
              "              title=\"Convert this dataframe to an interactive table.\"\n",
              "              style=\"display:none;\">\n",
              "        \n",
              "  <svg xmlns=\"http://www.w3.org/2000/svg\" height=\"24px\"viewBox=\"0 0 24 24\"\n",
              "       width=\"24px\">\n",
              "    <path d=\"M0 0h24v24H0V0z\" fill=\"none\"/>\n",
              "    <path d=\"M18.56 5.44l.94 2.06.94-2.06 2.06-.94-2.06-.94-.94-2.06-.94 2.06-2.06.94zm-11 1L8.5 8.5l.94-2.06 2.06-.94-2.06-.94L8.5 2.5l-.94 2.06-2.06.94zm10 10l.94 2.06.94-2.06 2.06-.94-2.06-.94-.94-2.06-.94 2.06-2.06.94z\"/><path d=\"M17.41 7.96l-1.37-1.37c-.4-.4-.92-.59-1.43-.59-.52 0-1.04.2-1.43.59L10.3 9.45l-7.72 7.72c-.78.78-.78 2.05 0 2.83L4 21.41c.39.39.9.59 1.41.59.51 0 1.02-.2 1.41-.59l7.78-7.78 2.81-2.81c.8-.78.8-2.07 0-2.86zM5.41 20L4 18.59l7.72-7.72 1.47 1.35L5.41 20z\"/>\n",
              "  </svg>\n",
              "      </button>\n",
              "      \n",
              "  <style>\n",
              "    .colab-df-container {\n",
              "      display:flex;\n",
              "      flex-wrap:wrap;\n",
              "      gap: 12px;\n",
              "    }\n",
              "\n",
              "    .colab-df-convert {\n",
              "      background-color: #E8F0FE;\n",
              "      border: none;\n",
              "      border-radius: 50%;\n",
              "      cursor: pointer;\n",
              "      display: none;\n",
              "      fill: #1967D2;\n",
              "      height: 32px;\n",
              "      padding: 0 0 0 0;\n",
              "      width: 32px;\n",
              "    }\n",
              "\n",
              "    .colab-df-convert:hover {\n",
              "      background-color: #E2EBFA;\n",
              "      box-shadow: 0px 1px 2px rgba(60, 64, 67, 0.3), 0px 1px 3px 1px rgba(60, 64, 67, 0.15);\n",
              "      fill: #174EA6;\n",
              "    }\n",
              "\n",
              "    [theme=dark] .colab-df-convert {\n",
              "      background-color: #3B4455;\n",
              "      fill: #D2E3FC;\n",
              "    }\n",
              "\n",
              "    [theme=dark] .colab-df-convert:hover {\n",
              "      background-color: #434B5C;\n",
              "      box-shadow: 0px 1px 3px 1px rgba(0, 0, 0, 0.15);\n",
              "      filter: drop-shadow(0px 1px 2px rgba(0, 0, 0, 0.3));\n",
              "      fill: #FFFFFF;\n",
              "    }\n",
              "  </style>\n",
              "\n",
              "      <script>\n",
              "        const buttonEl =\n",
              "          document.querySelector('#df-3102067f-0b4d-4521-8145-d4611993f160 button.colab-df-convert');\n",
              "        buttonEl.style.display =\n",
              "          google.colab.kernel.accessAllowed ? 'block' : 'none';\n",
              "\n",
              "        async function convertToInteractive(key) {\n",
              "          const element = document.querySelector('#df-3102067f-0b4d-4521-8145-d4611993f160');\n",
              "          const dataTable =\n",
              "            await google.colab.kernel.invokeFunction('convertToInteractive',\n",
              "                                                     [key], {});\n",
              "          if (!dataTable) return;\n",
              "\n",
              "          const docLinkHtml = 'Like what you see? Visit the ' +\n",
              "            '<a target=\"_blank\" href=https://colab.research.google.com/notebooks/data_table.ipynb>data table notebook</a>'\n",
              "            + ' to learn more about interactive tables.';\n",
              "          element.innerHTML = '';\n",
              "          dataTable['output_type'] = 'display_data';\n",
              "          await google.colab.output.renderOutput(dataTable, element);\n",
              "          const docLink = document.createElement('div');\n",
              "          docLink.innerHTML = docLinkHtml;\n",
              "          element.appendChild(docLink);\n",
              "        }\n",
              "      </script>\n",
              "    </div>\n",
              "  </div>\n",
              "  "
            ]
          },
          "metadata": {},
          "execution_count": 12
        }
      ]
    },
    {
      "cell_type": "code",
      "source": [
        "# Run this cell to create a bar chart and visualise the table generated above\n",
        "\n",
        "Negative = [49.674419, 56.338652, 55.396096, 54.907539, 50.276243]\n",
        "Neutral = [35.674419, 31.826241, 30.711825, 31.009957, 25.966851]\n",
        "Positive = [14.651163, 11.835106, 13.892078, 14.082504, 23.756906]\n",
        "index = ['2012', '2015', '2017','2019', '2022']\n",
        "df_vis = pd.DataFrame({'negative': Negative,'neutral': Neutral,'positive': Positive}, index=index)\n",
        "ax = df_vis.plot.bar(rot=0)"
      ],
      "metadata": {
        "id": "x8Rfq6kOHt0N",
        "colab": {
          "base_uri": "https://localhost:8080/",
          "height": 430
        },
        "outputId": "e9387712-fb07-4ef8-e92a-39bd4ce5482d"
      },
      "execution_count": 13,
      "outputs": [
        {
          "output_type": "display_data",
          "data": {
            "text/plain": [
              "<Figure size 640x480 with 1 Axes>"
            ],
            "image/png": "[encoded data removed]"
          },
          "metadata": {}
        }
      ]
    },
    {
      "cell_type": "markdown",
      "source": [
        "### **Emotion Analysis**\n",
        "\n",
        "\n"
      ],
      "metadata": {
        "id": "GS0ojNE2DrMu"
      }
    },
    {
      "cell_type": "markdown",
      "source": [
        "> Emotion detection is a means of identifying distinct human emotion types such as furious, cheerful, or depressed. “Emotion detection,” “affective computing,” “emotion analysis,” and “emotion identification” are all phrases that are sometimes used interchangeably\n",
        "\n",
        "```Nandwani, P., Verma, R. A review on sentiment analysis and emotion detection from text. Soc. Netw. Anal. Min. 11, 81 (2021). https://doi.org/10.1007/s13278-021-00776-6```\n",
        "\n",
        "<br>\n",
        "\n",
        "**The two-dimensional structure of emotions from (Watson and Tellegen, 1985)**\n",
        "\n",
        "<br /><center><img src='https://drive.google.com/uc?id=1nkaOMhySmwfsy-kvBTXsLRU9Q0yUri8r'></center>\n"
      ],
      "metadata": {
        "id": "wpBX7zL4j5be"
      }
    },
    {
      "cell_type": "code",
      "source": [
        "df['Titles'] = df['Titles'].astype(str)\n",
        "str_titles = ','.join(df['Titles'])\n",
        "text_object = NRCLex(str_titles)\n",
        "text_object.affect_frequencies['fear']\n",
        "text_object.affect_frequencies['anger']\n",
        "text_object.affect_frequencies['anticip']\n",
        "text_object.affect_frequencies['trust']\n",
        "text_object.affect_frequencies['surprise']\n",
        "text_object.affect_frequencies['sadness']\n",
        "text_object.affect_frequencies['disgust']\n",
        "text_object.affect_frequencies['joy']\n",
        "\n",
        "data = text_object.raw_emotion_scores\n",
        "data"
      ],
      "metadata": {
        "colab": {
          "base_uri": "https://localhost:8080/"
        },
        "id": "QE8xyXr2DweJ",
        "outputId": "68d5aff7-5ad7-4dd5-b786-6704939715a6"
      },
      "execution_count": 14,
      "outputs": [
        {
          "output_type": "execute_result",
          "data": {
            "text/plain": [
              "{'fear': 3789,\n",
              " 'negative': 4750,\n",
              " 'sadness': 2423,\n",
              " 'surprise': 1369,\n",
              " 'trust': 2043,\n",
              " 'anger': 2872,\n",
              " 'positive': 2556,\n",
              " 'anticipation': 1665,\n",
              " 'joy': 987,\n",
              " 'disgust': 920}"
            ]
          },
          "metadata": {},
          "execution_count": 14
        }
      ]
    },
    {
      "cell_type": "code",
      "source": [
        "emotion_df = pd.DataFrame.from_dict(data, orient='index')\n",
        "emotion_df = emotion_df.reset_index()\n",
        "emotion_df = emotion_df.rename(columns={'index' : 'Emotion Classification' , 0: 'Emotion Count'})\n",
        "emotion_df = emotion_df.sort_values(by=['Emotion Count'], ascending=False)\n",
        "fig = px.bar(emotion_df, x='Emotion Count', y='Emotion Classification', color = 'Emotion Classification', orientation='h',\n",
        "             width = 800, height = 400)\n",
        "fig.show()"
      ],
      "metadata": {
        "colab": {
          "base_uri": "https://localhost:8080/",
          "height": 417
        },
        "id": "FcBSl_jmEtNA",
        "outputId": "dd0aa319-faba-4331-d8e2-64661b0603a8"
      },
      "execution_count": 15,
      "outputs": [
        {
          "output_type": "display_data",
          "data": {
            "text/html": [
              "<html>\n",
              "<head><meta charset=\"utf-8\" /></head>\n",
              "<body>\n",
              "    <div>            <script src=\"https://cdnjs.cloudflare.com/ajax/libs/mathjax/2.7.5/MathJax.js?config=TeX-AMS-MML_SVG\"></script><script type=\"text/javascript\">if (window.MathJax && window.MathJax.Hub && window.MathJax.Hub.Config) {window.MathJax.Hub.Config({SVG: {font: \"STIX-Web\"}});}</script>                <script type=\"text/javascript\">window.PlotlyConfig = {MathJaxConfig: 'local'};</script>\n",
              "        <script src=\"https://cdn.plot.ly/plotly-2.18.2.min.js\"></script>                <div id=\"7f93cb30-f60b-408e-b647-ebbb1d84b658\" class=\"plotly-graph-div\" style=\"height:400px; width:800px;\"></div>            <script type=\"text/javascript\">                                    window.PLOTLYENV=window.PLOTLYENV || {};                                    if (document.getElementById(\"7f93cb30-f60b-408e-b647-ebbb1d84b658\")) {                    Plotly.newPlot(                        \"7f93cb30-f60b-408e-b647-ebbb1d84b658\",                        [{\"alignmentgroup\":\"True\",\"hovertemplate\":\"Emotion Classification=%{y}<br>Emotion Count=%{x}<extra></extra>\",\"legendgroup\":\"negative\",\"marker\":{\"color\":\"#636efa\",\"pattern\":{\"shape\":\"\"}},\"name\":\"negative\",\"offsetgroup\":\"negative\",\"orientation\":\"h\",\"showlegend\":true,\"textposition\":\"auto\",\"x\":[4750],\"xaxis\":\"x\",\"y\":[\"negative\"],\"yaxis\":\"y\",\"type\":\"bar\"},{\"alignmentgroup\":\"True\",\"hovertemplate\":\"Emotion Classification=%{y}<br>Emotion Count=%{x}<extra></extra>\",\"legendgroup\":\"fear\",\"marker\":{\"color\":\"#EF553B\",\"pattern\":{\"shape\":\"\"}},\"name\":\"fear\",\"offsetgroup\":\"fear\",\"orientation\":\"h\",\"showlegend\":true,\"textposition\":\"auto\",\"x\":[3789],\"xaxis\":\"x\",\"y\":[\"fear\"],\"yaxis\":\"y\",\"type\":\"bar\"},{\"alignmentgroup\":\"True\",\"hovertemplate\":\"Emotion Classification=%{y}<br>Emotion Count=%{x}<extra></extra>\",\"legendgroup\":\"anger\",\"marker\":{\"color\":\"#00cc96\",\"pattern\":{\"shape\":\"\"}},\"name\":\"anger\",\"offsetgroup\":\"anger\",\"orientation\":\"h\",\"showlegend\":true,\"textposition\":\"auto\",\"x\":[2872],\"xaxis\":\"x\",\"y\":[\"anger\"],\"yaxis\":\"y\",\"type\":\"bar\"},{\"alignmentgroup\":\"True\",\"hovertemplate\":\"Emotion Classification=%{y}<br>Emotion Count=%{x}<extra></extra>\",\"legendgroup\":\"positive\",\"marker\":{\"color\":\"#ab63fa\",\"pattern\":{\"shape\":\"\"}},\"name\":\"positive\",\"offsetgroup\":\"positive\",\"orientation\":\"h\",\"showlegend\":true,\"textposition\":\"auto\",\"x\":[2556],\"xaxis\":\"x\",\"y\":[\"positive\"],\"yaxis\":\"y\",\"type\":\"bar\"},{\"alignmentgroup\":\"True\",\"hovertemplate\":\"Emotion Classification=%{y}<br>Emotion Count=%{x}<extra></extra>\",\"legendgroup\":\"sadness\",\"marker\":{\"color\":\"#FFA15A\",\"pattern\":{\"shape\":\"\"}},\"name\":\"sadness\",\"offsetgroup\":\"sadness\",\"orientation\":\"h\",\"showlegend\":true,\"textposition\":\"auto\",\"x\":[2423],\"xaxis\":\"x\",\"y\":[\"sadness\"],\"yaxis\":\"y\",\"type\":\"bar\"},{\"alignmentgroup\":\"True\",\"hovertemplate\":\"Emotion Classification=%{y}<br>Emotion Count=%{x}<extra></extra>\",\"legendgroup\":\"trust\",\"marker\":{\"color\":\"#19d3f3\",\"pattern\":{\"shape\":\"\"}},\"name\":\"trust\",\"offsetgroup\":\"trust\",\"orientation\":\"h\",\"showlegend\":true,\"textposition\":\"auto\",\"x\":[2043],\"xaxis\":\"x\",\"y\":[\"trust\"],\"yaxis\":\"y\",\"type\":\"bar\"},{\"alignmentgroup\":\"True\",\"hovertemplate\":\"Emotion Classification=%{y}<br>Emotion Count=%{x}<extra></extra>\",\"legendgroup\":\"anticipation\",\"marker\":{\"color\":\"#FF6692\",\"pattern\":{\"shape\":\"\"}},\"name\":\"anticipation\",\"offsetgroup\":\"anticipation\",\"orientation\":\"h\",\"showlegend\":true,\"textposition\":\"auto\",\"x\":[1665],\"xaxis\":\"x\",\"y\":[\"anticipation\"],\"yaxis\":\"y\",\"type\":\"bar\"},{\"alignmentgroup\":\"True\",\"hovertemplate\":\"Emotion Classification=%{y}<br>Emotion Count=%{x}<extra></extra>\",\"legendgroup\":\"surprise\",\"marker\":{\"color\":\"#B6E880\",\"pattern\":{\"shape\":\"\"}},\"name\":\"surprise\",\"offsetgroup\":\"surprise\",\"orientation\":\"h\",\"showlegend\":true,\"textposition\":\"auto\",\"x\":[1369],\"xaxis\":\"x\",\"y\":[\"surprise\"],\"yaxis\":\"y\",\"type\":\"bar\"},{\"alignmentgroup\":\"True\",\"hovertemplate\":\"Emotion Classification=%{y}<br>Emotion Count=%{x}<extra></extra>\",\"legendgroup\":\"joy\",\"marker\":{\"color\":\"#FF97FF\",\"pattern\":{\"shape\":\"\"}},\"name\":\"joy\",\"offsetgroup\":\"joy\",\"orientation\":\"h\",\"showlegend\":true,\"textposition\":\"auto\",\"x\":[987],\"xaxis\":\"x\",\"y\":[\"joy\"],\"yaxis\":\"y\",\"type\":\"bar\"},{\"alignmentgroup\":\"True\",\"hovertemplate\":\"Emotion Classification=%{y}<br>Emotion Count=%{x}<extra></extra>\",\"legendgroup\":\"disgust\",\"marker\":{\"color\":\"#FECB52\",\"pattern\":{\"shape\":\"\"}},\"name\":\"disgust\",\"offsetgroup\":\"disgust\",\"orientation\":\"h\",\"showlegend\":true,\"textposition\":\"auto\",\"x\":[920],\"xaxis\":\"x\",\"y\":[\"disgust\"],\"yaxis\":\"y\",\"type\":\"bar\"}],                        {\"template\":{\"data\":{\"histogram2dcontour\":[{\"type\":\"histogram2dcontour\",\"colorbar\":{\"outlinewidth\":0,\"ticks\":\"\"},\"colorscale\":[[0.0,\"#0d0887\"],[0.1111111111111111,\"#46039f\"],[0.2222222222222222,\"#7201a8\"],[0.3333333333333333,\"#9c179e\"],[0.4444444444444444,\"#bd3786\"],[0.5555555555555556,\"#d8576b\"],[0.6666666666666666,\"#ed7953\"],[0.7777777777777778,\"#fb9f3a\"],[0.8888888888888888,\"#fdca26\"],[1.0,\"#f0f921\"]]}],\"choropleth\":[{\"type\":\"choropleth\",\"colorbar\":{\"outlinewidth\":0,\"ticks\":\"\"}}],\"histogram2d\":[{\"type\":\"histogram2d\",\"colorbar\":{\"outlinewidth\":0,\"ticks\":\"\"},\"colorscale\":[[0.0,\"#0d0887\"],[0.1111111111111111,\"#46039f\"],[0.2222222222222222,\"#7201a8\"],[0.3333333333333333,\"#9c179e\"],[0.4444444444444444,\"#bd3786\"],[0.5555555555555556,\"#d8576b\"],[0.6666666666666666,\"#ed7953\"],[0.7777777777777778,\"#fb9f3a\"],[0.8888888888888888,\"#fdca26\"],[1.0,\"#f0f921\"]]}],\"heatmap\":[{\"type\":\"heatmap\",\"colorbar\":{\"outlinewidth\":0,\"ticks\":\"\"},\"colorscale\":[[0.0,\"#0d0887\"],[0.1111111111111111,\"#46039f\"],[0.2222222222222222,\"#7201a8\"],[0.3333333333333333,\"#9c179e\"],[0.4444444444444444,\"#bd3786\"],[0.5555555555555556,\"#d8576b\"],[0.6666666666666666,\"#ed7953\"],[0.7777777777777778,\"#fb9f3a\"],[0.8888888888888888,\"#fdca26\"],[1.0,\"#f0f921\"]]}],\"heatmapgl\":[{\"type\":\"heatmapgl\",\"colorbar\":{\"outlinewidth\":0,\"ticks\":\"\"},\"colorscale\":[[0.0,\"#0d0887\"],[0.1111111111111111,\"#46039f\"],[0.2222222222222222,\"#7201a8\"],[0.3333333333333333,\"#9c179e\"],[0.4444444444444444,\"#bd3786\"],[0.5555555555555556,\"#d8576b\"],[0.6666666666666666,\"#ed7953\"],[0.7777777777777778,\"#fb9f3a\"],[0.8888888888888888,\"#fdca26\"],[1.0,\"#f0f921\"]]}],\"contourcarpet\":[{\"type\":\"contourcarpet\",\"colorbar\":{\"outlinewidth\":0,\"ticks\":\"\"}}],\"contour\":[{\"type\":\"contour\",\"colorbar\":{\"outlinewidth\":0,\"ticks\":\"\"},\"colorscale\":[[0.0,\"#0d0887\"],[0.1111111111111111,\"#46039f\"],[0.2222222222222222,\"#7201a8\"],[0.3333333333333333,\"#9c179e\"],[0.4444444444444444,\"#bd3786\"],[0.5555555555555556,\"#d8576b\"],[0.6666666666666666,\"#ed7953\"],[0.7777777777777778,\"#fb9f3a\"],[0.8888888888888888,\"#fdca26\"],[1.0,\"#f0f921\"]]}],\"surface\":[{\"type\":\"surface\",\"colorbar\":{\"outlinewidth\":0,\"ticks\":\"\"},\"colorscale\":[[0.0,\"#0d0887\"],[0.1111111111111111,\"#46039f\"],[0.2222222222222222,\"#7201a8\"],[0.3333333333333333,\"#9c179e\"],[0.4444444444444444,\"#bd3786\"],[0.5555555555555556,\"#d8576b\"],[0.6666666666666666,\"#ed7953\"],[0.7777777777777778,\"#fb9f3a\"],[0.8888888888888888,\"#fdca26\"],[1.0,\"#f0f921\"]]}],\"mesh3d\":[{\"type\":\"mesh3d\",\"colorbar\":{\"outlinewidth\":0,\"ticks\":\"\"}}],\"scatter\":[{\"fillpattern\":{\"fillmode\":\"overlay\",\"size\":10,\"solidity\":0.2},\"type\":\"scatter\"}],\"parcoords\":[{\"type\":\"parcoords\",\"line\":{\"colorbar\":{\"outlinewidth\":0,\"ticks\":\"\"}}}],\"scatterpolargl\":[{\"type\":\"scatterpolargl\",\"marker\":{\"colorbar\":{\"outlinewidth\":0,\"ticks\":\"\"}}}],\"bar\":[{\"error_x\":{\"color\":\"#2a3f5f\"},\"error_y\":{\"color\":\"#2a3f5f\"},\"marker\":{\"line\":{\"color\":\"#E5ECF6\",\"width\":0.5},\"pattern\":{\"fillmode\":\"overlay\",\"size\":10,\"solidity\":0.2}},\"type\":\"bar\"}],\"scattergeo\":[{\"type\":\"scattergeo\",\"marker\":{\"colorbar\":{\"outlinewidth\":0,\"ticks\":\"\"}}}],\"scatterpolar\":[{\"type\":\"scatterpolar\",\"marker\":{\"colorbar\":{\"outlinewidth\":0,\"ticks\":\"\"}}}],\"histogram\":[{\"marker\":{\"pattern\":{\"fillmode\":\"overlay\",\"size\":10,\"solidity\":0.2}},\"type\":\"histogram\"}],\"scattergl\":[{\"type\":\"scattergl\",\"marker\":{\"colorbar\":{\"outlinewidth\":0,\"ticks\":\"\"}}}],\"scatter3d\":[{\"type\":\"scatter3d\",\"line\":{\"colorbar\":{\"outlinewidth\":0,\"ticks\":\"\"}},\"marker\":{\"colorbar\":{\"outlinewidth\":0,\"ticks\":\"\"}}}],\"scattermapbox\":[{\"type\":\"scattermapbox\",\"marker\":{\"colorbar\":{\"outlinewidth\":0,\"ticks\":\"\"}}}],\"scatterternary\":[{\"type\":\"scatterternary\",\"marker\":{\"colorbar\":{\"outlinewidth\":0,\"ticks\":\"\"}}}],\"scattercarpet\":[{\"type\":\"scattercarpet\",\"marker\":{\"colorbar\":{\"outlinewidth\":0,\"ticks\":\"\"}}}],\"carpet\":[{\"aaxis\":{\"endlinecolor\":\"#2a3f5f\",\"gridcolor\":\"white\",\"linecolor\":\"white\",\"minorgridcolor\":\"white\",\"startlinecolor\":\"#2a3f5f\"},\"baxis\":{\"endlinecolor\":\"#2a3f5f\",\"gridcolor\":\"white\",\"linecolor\":\"white\",\"minorgridcolor\":\"white\",\"startlinecolor\":\"#2a3f5f\"},\"type\":\"carpet\"}],\"table\":[{\"cells\":{\"fill\":{\"color\":\"#EBF0F8\"},\"line\":{\"color\":\"white\"}},\"header\":{\"fill\":{\"color\":\"#C8D4E3\"},\"line\":{\"color\":\"white\"}},\"type\":\"table\"}],\"barpolar\":[{\"marker\":{\"line\":{\"color\":\"#E5ECF6\",\"width\":0.5},\"pattern\":{\"fillmode\":\"overlay\",\"size\":10,\"solidity\":0.2}},\"type\":\"barpolar\"}],\"pie\":[{\"automargin\":true,\"type\":\"pie\"}]},\"layout\":{\"autotypenumbers\":\"strict\",\"colorway\":[\"#636efa\",\"#EF553B\",\"#00cc96\",\"#ab63fa\",\"#FFA15A\",\"#19d3f3\",\"#FF6692\",\"#B6E880\",\"#FF97FF\",\"#FECB52\"],\"font\":{\"color\":\"#2a3f5f\"},\"hovermode\":\"closest\",\"hoverlabel\":{\"align\":\"left\"},\"paper_bgcolor\":\"white\",\"plot_bgcolor\":\"#E5ECF6\",\"polar\":{\"bgcolor\":\"#E5ECF6\",\"angularaxis\":{\"gridcolor\":\"white\",\"linecolor\":\"white\",\"ticks\":\"\"},\"radialaxis\":{\"gridcolor\":\"white\",\"linecolor\":\"white\",\"ticks\":\"\"}},\"ternary\":{\"bgcolor\":\"#E5ECF6\",\"aaxis\":{\"gridcolor\":\"white\",\"linecolor\":\"white\",\"ticks\":\"\"},\"baxis\":{\"gridcolor\":\"white\",\"linecolor\":\"white\",\"ticks\":\"\"},\"caxis\":{\"gridcolor\":\"white\",\"linecolor\":\"white\",\"ticks\":\"\"}},\"coloraxis\":{\"colorbar\":{\"outlinewidth\":0,\"ticks\":\"\"}},\"colorscale\":{\"sequential\":[[0.0,\"#0d0887\"],[0.1111111111111111,\"#46039f\"],[0.2222222222222222,\"#7201a8\"],[0.3333333333333333,\"#9c179e\"],[0.4444444444444444,\"#bd3786\"],[0.5555555555555556,\"#d8576b\"],[0.6666666666666666,\"#ed7953\"],[0.7777777777777778,\"#fb9f3a\"],[0.8888888888888888,\"#fdca26\"],[1.0,\"#f0f921\"]],\"sequentialminus\":[[0.0,\"#0d0887\"],[0.1111111111111111,\"#46039f\"],[0.2222222222222222,\"#7201a8\"],[0.3333333333333333,\"#9c179e\"],[0.4444444444444444,\"#bd3786\"],[0.5555555555555556,\"#d8576b\"],[0.6666666666666666,\"#ed7953\"],[0.7777777777777778,\"#fb9f3a\"],[0.8888888888888888,\"#fdca26\"],[1.0,\"#f0f921\"]],\"diverging\":[[0,\"#8e0152\"],[0.1,\"#c51b7d\"],[0.2,\"#de77ae\"],[0.3,\"#f1b6da\"],[0.4,\"#fde0ef\"],[0.5,\"#f7f7f7\"],[0.6,\"#e6f5d0\"],[0.7,\"#b8e186\"],[0.8,\"#7fbc41\"],[0.9,\"#4d9221\"],[1,\"#276419\"]]},\"xaxis\":{\"gridcolor\":\"white\",\"linecolor\":\"white\",\"ticks\":\"\",\"title\":{\"standoff\":15},\"zerolinecolor\":\"white\",\"automargin\":true,\"zerolinewidth\":2},\"yaxis\":{\"gridcolor\":\"white\",\"linecolor\":\"white\",\"ticks\":\"\",\"title\":{\"standoff\":15},\"zerolinecolor\":\"white\",\"automargin\":true,\"zerolinewidth\":2},\"scene\":{\"xaxis\":{\"backgroundcolor\":\"#E5ECF6\",\"gridcolor\":\"white\",\"linecolor\":\"white\",\"showbackground\":true,\"ticks\":\"\",\"zerolinecolor\":\"white\",\"gridwidth\":2},\"yaxis\":{\"backgroundcolor\":\"#E5ECF6\",\"gridcolor\":\"white\",\"linecolor\":\"white\",\"showbackground\":true,\"ticks\":\"\",\"zerolinecolor\":\"white\",\"gridwidth\":2},\"zaxis\":{\"backgroundcolor\":\"#E5ECF6\",\"gridcolor\":\"white\",\"linecolor\":\"white\",\"showbackground\":true,\"ticks\":\"\",\"zerolinecolor\":\"white\",\"gridwidth\":2}},\"shapedefaults\":{\"line\":{\"color\":\"#2a3f5f\"}},\"annotationdefaults\":{\"arrowcolor\":\"#2a3f5f\",\"arrowhead\":0,\"arrowwidth\":1},\"geo\":{\"bgcolor\":\"white\",\"landcolor\":\"#E5ECF6\",\"subunitcolor\":\"white\",\"showland\":true,\"showlakes\":true,\"lakecolor\":\"white\"},\"title\":{\"x\":0.05},\"mapbox\":{\"style\":\"light\"}}},\"xaxis\":{\"anchor\":\"y\",\"domain\":[0.0,1.0],\"title\":{\"text\":\"Emotion Count\"}},\"yaxis\":{\"anchor\":\"x\",\"domain\":[0.0,1.0],\"title\":{\"text\":\"Emotion Classification\"},\"categoryorder\":\"array\",\"categoryarray\":[\"disgust\",\"joy\",\"surprise\",\"anticipation\",\"trust\",\"sadness\",\"positive\",\"anger\",\"fear\",\"negative\"]},\"legend\":{\"title\":{\"text\":\"Emotion Classification\"},\"tracegroupgap\":0},\"margin\":{\"t\":60},\"barmode\":\"relative\",\"height\":400,\"width\":800},                        {\"responsive\": true}                    ).then(function(){\n",
              "                            \n",
              "var gd = document.getElementById('7f93cb30-f60b-408e-b647-ebbb1d84b658');\n",
              "var x = new MutationObserver(function (mutations, observer) {{\n",
              "        var display = window.getComputedStyle(gd).display;\n",
              "        if (!display || display === 'none') {{\n",
              "            console.log([gd, 'removed!']);\n",
              "            Plotly.purge(gd);\n",
              "            observer.disconnect();\n",
              "        }}\n",
              "}});\n",
              "\n",
              "// Listen for the removal of the full notebook cells\n",
              "var notebookContainer = gd.closest('#notebook-container');\n",
              "if (notebookContainer) {{\n",
              "    x.observe(notebookContainer, {childList: true});\n",
              "}}\n",
              "\n",
              "// Listen for the clearing of the current output cell\n",
              "var outputEl = gd.closest('.output');\n",
              "if (outputEl) {{\n",
              "    x.observe(outputEl, {childList: true});\n",
              "}}\n",
              "\n",
              "                        })                };                            </script>        </div>\n",
              "</body>\n",
              "</html>"
            ]
          },
          "metadata": {}
        }
      ]
    },
    {
      "cell_type": "markdown",
      "source": [
        "### **Experimenting with Emotion Analysis**"
      ],
      "metadata": {
        "id": "_KiBnlhnJr7y"
      }
    },
    {
      "cell_type": "markdown",
      "source": [
        "**List of 28 emotions supported by the [model](https://huggingface.co/nlptown/bert-base-multilingual-uncased-sentiment):**\n",
        "\n",
        "|        |                |             |             |\n",
        "|---------------|----------------|-------------|-------------|\n",
        "| admiration    | amusement      | anger       | annoyance   |\n",
        "| approval      | caring         | confusion   | curiosity   |\n",
        "| desire        | disappointment | disapproval | disgust     |\n",
        "| embarrassment | excitement     | fear        | gratitude   |\n",
        "| grief         | joy            | love        | nervousness |\n",
        "| optimism      | pride          | realization | relief      |\n",
        "| remorse       | sadness        | surprise    | neutral     |"
      ],
      "metadata": {
        "id": "wWDHa86lGneT"
      }
    },
    {
      "cell_type": "code",
      "source": [
        "#@title **Hands-on: try some sentences to predict emotions**\n",
        "text = \"I hope it works!\" #@param {type:\"string\"}\n",
        "from transformers import T5ForConditionalGeneration, T5Tokenizer\n",
        "model = T5ForConditionalGeneration.from_pretrained(\"kiri-ai/t5-base-qa-summary-emotion\")\n",
        "tokenizer = T5Tokenizer.from_pretrained(\"kiri-ai/t5-base-qa-summary-emotion\")\n",
        "\n",
        "def emotion(context):\n",
        "    input_text = f\"emotion: {context}\"\n",
        "    features = tokenizer([input_text], return_tensors='pt')\n",
        "    tokens = model.generate(input_ids=features['input_ids'],\n",
        "            attention_mask=features['attention_mask'], max_length=64)\n",
        "    return tokenizer.decode(tokens[0], skip_special_tokens=True)\n",
        "\n",
        "emotion(\"emotion:\" + text + \"</s>\")"
      ],
      "metadata": {
        "id": "5IcIiQ9NEutA",
        "colab": {
          "base_uri": "https://localhost:8080/",
          "height": 35
        },
        "cellView": "form",
        "outputId": "80f6e9c0-0c3e-4423-c41d-c1158a5a2c4b"
      },
      "execution_count": 4,
      "outputs": [
        {
          "output_type": "execute_result",
          "data": {
            "text/plain": [
              "'optimism'"
            ],
            "application/vnd.google.colaboratory.intrinsic+json": {
              "type": "string"
            }
          },
          "metadata": {},
          "execution_count": 4
        }
      ]
    },
    {
      "cell_type": "code",
      "source": [
        "#@title Example 1\n",
        "text = \"I love the German bakeries in Sydney. Together with my imported honey it feels like home\" #@param {type:\"string\"}\n",
        "\n",
        "def emotion(context):\n",
        "    input_text = f\"emotion: {context}\"\n",
        "    features = tokenizer([input_text], return_tensors='pt')\n",
        "    tokens = model.generate(input_ids=features['input_ids'],\n",
        "            attention_mask=features['attention_mask'], max_length=64)\n",
        "    return tokenizer.decode(tokens[0], skip_special_tokens=True)\n",
        "\n",
        "emotion(\"emotion:\" + text + \"</s>\")"
      ],
      "metadata": {
        "colab": {
          "base_uri": "https://localhost:8080/",
          "height": 35
        },
        "cellView": "form",
        "outputId": "c11ebbf6-b312-4a38-992d-b424045d1f8d",
        "id": "kFlasSrPZl9j"
      },
      "execution_count": 18,
      "outputs": [
        {
          "output_type": "execute_result",
          "data": {
            "text/plain": [
              "'love'"
            ],
            "application/vnd.google.colaboratory.intrinsic+json": {
              "type": "string"
            }
          },
          "metadata": {},
          "execution_count": 18
        }
      ]
    },
    {
      "cell_type": "code",
      "source": [
        "#@title Example 2\n",
        "text = \"OMG! Beyonce's new album was just released!\" #@param {type:\"string\"}\n",
        "\n",
        "def emotion(context):\n",
        "    input_text = f\"emotion: {context}\"\n",
        "    features = tokenizer([input_text], return_tensors='pt')\n",
        "    tokens = model.generate(input_ids=features['input_ids'],\n",
        "            attention_mask=features['attention_mask'], max_length=64)\n",
        "    return tokenizer.decode(tokens[0], skip_special_tokens=True)\n",
        "\n",
        "emotion(\"emotion:\" + text + \"</s>\")"
      ],
      "metadata": {
        "colab": {
          "base_uri": "https://localhost:8080/",
          "height": 35
        },
        "cellView": "form",
        "outputId": "528db60b-0467-413a-df28-cbd18d03532d",
        "id": "oK_EPMKmZ-Oe"
      },
      "execution_count": 28,
      "outputs": [
        {
          "output_type": "execute_result",
          "data": {
            "text/plain": [
              "'excitement'"
            ],
            "application/vnd.google.colaboratory.intrinsic+json": {
              "type": "string"
            }
          },
          "metadata": {},
          "execution_count": 28
        }
      ]
    },
    {
      "cell_type": "code",
      "source": [
        "#@title Example 3\n",
        "text = \"The new manager is terrible \" #@param {type:\"string\"}\n",
        "\n",
        "def emotion(context):\n",
        "    input_text = f\"emotion: {context}\"\n",
        "    features = tokenizer([input_text], return_tensors='pt')\n",
        "    tokens = model.generate(input_ids=features['input_ids'],\n",
        "            attention_mask=features['attention_mask'], max_length=64)\n",
        "    return tokenizer.decode(tokens[0], skip_special_tokens=True)\n",
        "\n",
        "emotion(\"emotion:\" + text + \"</s>\")"
      ],
      "metadata": {
        "colab": {
          "base_uri": "https://localhost:8080/",
          "height": 35
        },
        "cellView": "form",
        "outputId": "b4498fed-8072-49d5-844b-a7e3c58ea353",
        "id": "e4TKbgXlb1it"
      },
      "execution_count": 30,
      "outputs": [
        {
          "output_type": "execute_result",
          "data": {
            "text/plain": [
              "'fear'"
            ],
            "application/vnd.google.colaboratory.intrinsic+json": {
              "type": "string"
            }
          },
          "metadata": {},
          "execution_count": 30
        }
      ]
    }
  ]
}